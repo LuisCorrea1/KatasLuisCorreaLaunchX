{
 "cells": [
  {
   "cell_type": "markdown",
   "metadata": {},
   "source": [
    "# Kata Módulo 4\n"
   ]
  },
  {
   "cell_type": "markdown",
   "metadata": {},
   "source": [
    "# Ejercicio 1: Transformar cadenas\n",
    "\n",
    "text = \"\"\"Interesting facts about the Moon. The Moon is Earth's only satellite. There are several interesting facts about the Moon and how it affects life here on Earth. \n",
    "On average, the Moon moves 4cm away from the Earth every year. This yearly drift is not significant enough to cause immediate effects on Earth. The highest daylight temperature of the Moon is 127 C.\"\"\"\n",
    "\n",
    "\n",
    "Primero, divide el texto en cada oración para trabajar con su contenido:"
   ]
  },
  {
   "cell_type": "code",
   "execution_count": 9,
   "metadata": {},
   "outputs": [
    {
     "name": "stdout",
     "output_type": "stream",
     "text": [
      " \n",
      "On average, the Moon moves 4cm away from the Earth every year\n",
      " The highest daylight temperature of the Moon is 127 C\n",
      " \n",
      "On average, the Moon moves 4cm away from the Earth every year\n",
      " The highest daylight temperature of the Moon is 127 Celsius\n"
     ]
    }
   ],
   "source": [
    "text = \"\"\"Interesting facts about the Moon. The Moon is Earth's only satellite. There are several interesting facts about the Moon and how it affects life here on Earth. \n",
    "On average, the Moon moves 4cm away from the Earth every year. This yearly drift is not significant enough to cause immediate effects on Earth. The highest daylight temperature of the Moon is 127 C.\"\"\"\n",
    "oraciones = text.split(\".\")\n",
    "# Dividir texto \n",
    "oraciones\n",
    "palabrasClave = [\"average\", \"temperature\", \"distance\"]\n",
    "# Ciclo para palabras clave\n",
    "for oracion in oraciones:\n",
    "    for palClave in palabrasClave:\n",
    "        if palClave in oracion:\n",
    "            print(oracion)\n",
    "            break\n",
    "\n",
    "#Ciclo para reemplazar C por Celsius\n",
    "for oracion in oraciones:\n",
    "    for palClave in palabrasClave:\n",
    "        if palClave in oracion:\n",
    "            print(oracion.replace(\"C\", \"Celsius\"))\n",
    "            break\n"
   ]
  },
  {
   "cell_type": "markdown",
   "metadata": {},
   "source": [
    "# Ejercicio 2: Formateando Cadenas\n",
    "\n",
    "Saber cómo dar formato a las cadenas es esencial cuando se presenta información de un programa. Hay algunas maneras diferentes de lograr esto en Python. En este ejercicio, se utilizan variables que contienen datos clave sobre la gravedad en varias lunas y luego se utilizan para dar formato e imprimir la información.\n",
    "\n",
    "El formato tiene que acomodar información sobre otras lunas, por lo que debe ser genérico.\n",
    "\n",
    "En lugar de reemplazar las variables en una cadena larga como parte de un párrafo, utiliza la información para presentarla en un formato tabular. El resultado debería verse así:\n",
    "\n",
    "Gravity Facts about Ganymede\n",
    "-------------------------------------------------------------------------------\n",
    "Planet Name: Mars\n",
    "\n",
    "Gravity on Ganymede: 1.4300000000000002 m/s2"
   ]
  },
  {
   "cell_type": "code",
   "execution_count": 1,
   "metadata": {},
   "outputs": [
    {
     "name": "stdout",
     "output_type": "stream",
     "text": [
      "Gravity Facts About Moon  \n",
      "----------------------------------------\n",
      "Planet Name: Moon\n",
      "Gravity in Earth: 1.6199999999999999\n",
      "\n",
      "Nueva plantilla\n",
      "\n",
      "Gravity facts about Mars\n",
      "-------------------------------------------------\n",
      "Plante Name: Ganymede\n",
      "Gravity on Mars: 0.00142 \n"
     ]
    }
   ],
   "source": [
    "name = \"Moon\"\n",
    "gravity = 0.00162 # in kms\n",
    "planet = \"Earth\"\n",
    "\n",
    "\n",
    "titulo = f\"Gravity facts about {name}\"\n",
    "\"\"\"\n",
    "print(titulo.title())\n",
    "planetName = f\"Planet Name: {planet}\"\n",
    "print(planetName)\n",
    "gravInMts = gravity * 1000\n",
    "grav = f\"Gravity on {name}: {gravInMts}\"\n",
    "print(grav)\n",
    "\"\"\"\n",
    "\n",
    "#Plantilla\n",
    "\n",
    "plantilla = f\"\"\"\\n{'-'*40}\n",
    "Planet Name: {name}\n",
    "Gravity in {planet}: {gravity * 1000}\\n\"\"\"\n",
    "\n",
    "compTemplate = f\"{titulo.title()}  {plantilla}\"\n",
    "print(compTemplate)\n",
    "\n",
    "#Nueva plantilla\n",
    "print(\"Nueva plantilla\")\n",
    "nPlantilla = \"\"\"\n",
    "Gravity facts about {name}\n",
    "-------------------------------------------------\n",
    "Plante Name: {planet}\n",
    "Gravity on {name}: {gravity} \"\"\"\n",
    "print(nPlantilla.format(name = \"Mars\", gravity = 0.00142, planet = \"Ganymede\"))"
   ]
  }
 ],
 "metadata": {
  "interpreter": {
   "hash": "43a265a97f9b8d1a70f2d84af00138063afd550e5c782f36aaeba0f16d129512"
  },
  "kernelspec": {
   "display_name": "Python 3.10.2 64-bit",
   "language": "python",
   "name": "python3"
  },
  "language_info": {
   "codemirror_mode": {
    "name": "ipython",
    "version": 3
   },
   "file_extension": ".py",
   "mimetype": "text/x-python",
   "name": "python",
   "nbconvert_exporter": "python",
   "pygments_lexer": "ipython3",
   "version": "3.10.2"
  },
  "orig_nbformat": 4
 },
 "nbformat": 4,
 "nbformat_minor": 2
}
