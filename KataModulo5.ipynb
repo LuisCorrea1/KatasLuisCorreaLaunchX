{
 "cells": [
  {
   "cell_type": "markdown",
   "metadata": {},
   "source": [
    "# Kata Módulo 5 - Operadores Aritméticos\n",
    "\n"
   ]
  },
  {
   "cell_type": "markdown",
   "metadata": {},
   "source": [
    "## Ejercicio 1 \n",
    "\n",
    "Exploremos cómo podemos crear un programa que pueda calcular la distancia entre dos planetas. Comenzaremos usando dos distancias de planetas: Tierra (149.597.870 km) y Júpiter (778.547.200 km)."
   ]
  },
  {
   "cell_type": "code",
   "execution_count": 11,
   "metadata": {},
   "outputs": [
    {
     "name": "stdout",
     "output_type": "stream",
     "text": [
      "390577534\n"
     ]
    }
   ],
   "source": [
    "dis_Tierra = 149597870\n",
    "dis_Jupiter = 778547200\n",
    "# Multiplicar por 0.621 para obtener la distancia en millas\n",
    "dist_entre_Planetas = (dis_Jupiter - dis_Tierra) * 0.621\n",
    "print(round(dist_entre_Planetas))"
   ]
  },
  {
   "cell_type": "markdown",
   "metadata": {},
   "source": [
    "## Ejercicio 2 \n",
    "\n",
    "Convierte cadenas en números y usa valores absolutos\n",
    "\n",
    "Crear una aplicación para trabajar con números y entrada de usuario\n",
    "Con frecuencia, deberás convertir los valores de cadena en números para realizar correctamente diferentes operaciones o determinar el valor absoluto de un número.\n",
    "\n",
    "Para crear nuestra aplicación, queremos leer la distancia del sol para dos planetas, y luego mostrar la distancia entre los planetas. Haremos esto usando input para leer los valores, int para convertir a entero y luego abs para convertir el resultado en su valor absoluto."
   ]
  },
  {
   "cell_type": "code",
   "execution_count": 13,
   "metadata": {},
   "outputs": [
    {
     "name": "stdout",
     "output_type": "stream",
     "text": [
      "893619000.0\n"
     ]
    }
   ],
   "source": [
    "planeta1 = input(\"Ingrese la distancia con respecto al sol del Planeta 1\")\n",
    "planeta2 = input(\"Ingresa la distancia con respecto al sol del planeta 2\")\n",
    "#Multiploicar por 0.621 para obtener la distancia en millas \n",
    "dist_entre_Planetas = (abs(int(planeta1) - int(planeta2))) * 0.621\n",
    "print(round(dist_entre_Planetas))"
   ]
  }
 ],
 "metadata": {
  "interpreter": {
   "hash": "43a265a97f9b8d1a70f2d84af00138063afd550e5c782f36aaeba0f16d129512"
  },
  "kernelspec": {
   "display_name": "Python 3.10.2 64-bit",
   "language": "python",
   "name": "python3"
  },
  "language_info": {
   "codemirror_mode": {
    "name": "ipython",
    "version": 3
   },
   "file_extension": ".py",
   "mimetype": "text/x-python",
   "name": "python",
   "nbconvert_exporter": "python",
   "pygments_lexer": "ipython3",
   "version": "3.10.2"
  },
  "orig_nbformat": 4
 },
 "nbformat": 4,
 "nbformat_minor": 2
}
